{
 "cells": [
  {
   "cell_type": "code",
   "execution_count": 1,
   "id": "9e599a45",
   "metadata": {},
   "outputs": [],
   "source": [
    "x = { \"value\": 'a9.95', \"currency\": \"USD\" },{ \"value\": 99.95, \"currency\": \"JPY\" },{ \"value\": 10.99, \"currency\": \"EUR\" }"
   ]
  },
  {
   "cell_type": "code",
   "execution_count": 2,
   "id": "21a629c2",
   "metadata": {},
   "outputs": [],
   "source": [
    "import json"
   ]
  },
  {
   "cell_type": "code",
   "execution_count": 3,
   "id": "1670ca2d",
   "metadata": {},
   "outputs": [],
   "source": [
    "x = json.dumps(x)"
   ]
  },
  {
   "cell_type": "code",
   "execution_count": 4,
   "id": "e023603c",
   "metadata": {},
   "outputs": [],
   "source": [
    "def read_json_file(file_name):\n",
    "    '''\n",
    "    Reading JSON File and returns the Converted Currency For Valid Entries\n",
    "    \n",
    "    '''\n",
    "    \n",
    "    with open(file_name, \"r\", encoding='UTF-8') as file:\n",
    "\n",
    "        reader = json.loads(file.read())\n",
    "        \n",
    "        return reader"
   ]
  },
  {
   "cell_type": "code",
   "execution_count": 5,
   "id": "82730320",
   "metadata": {},
   "outputs": [],
   "source": [
    "d = read_json_file('current_values.json')[0]"
   ]
  },
  {
   "cell_type": "code",
   "execution_count": 6,
   "id": "ce735ed7",
   "metadata": {},
   "outputs": [
    {
     "data": {
      "text/plain": [
       "{'USD': 1.0892,\n",
       " 'EUR': 1.0,\n",
       " 'JPY': 126.03,\n",
       " 'BGN': 1.9558,\n",
       " 'CZK': 25.642,\n",
       " 'DKK': 7.4441,\n",
       " 'GBP': 0.83185,\n",
       " 'HUF': 388.28,\n",
       " 'PLN': 4.9103,\n",
       " 'RON': 4.9494,\n",
       " 'SEK': 10.8803,\n",
       " 'CHF': 1.0111,\n",
       " 'ISK': 145.9,\n",
       " 'NOK': 9.7925,\n",
       " 'HRK': 7.5715,\n",
       " 'TRY': 15.8183,\n",
       " 'AUD': 1.4971,\n",
       " 'BRL': 5.5346,\n",
       " 'CAD': 1.3978,\n",
       " 'CNY': 6.8805,\n",
       " 'HKD': 8.5183,\n",
       " 'IDR': 15639.76,\n",
       " 'ILS': 3.6022,\n",
       " 'INR': 83.924,\n",
       " 'KRW': 1344.71,\n",
       " 'MXN': 23.2866,\n",
       " 'MYR': 4.5556,\n",
       " 'NZD': 1.5958,\n",
       " 'PHP': 56.9,\n",
       " 'SGD': 1.4856,\n",
       " 'THB': 36.156,\n",
       " 'ZAR': 16.7051}"
      ]
     },
     "execution_count": 6,
     "metadata": {},
     "output_type": "execute_result"
    }
   ],
   "source": [
    "d"
   ]
  },
  {
   "cell_type": "code",
   "execution_count": 10,
   "id": "bc289bef",
   "metadata": {},
   "outputs": [],
   "source": [
    "d = 6"
   ]
  },
  {
   "cell_type": "code",
   "execution_count": 11,
   "id": "45598add",
   "metadata": {},
   "outputs": [
    {
     "data": {
      "text/plain": [
       "True"
      ]
     },
     "execution_count": 11,
     "metadata": {},
     "output_type": "execute_result"
    }
   ],
   "source": [
    "isinstance(d,int)"
   ]
  },
  {
   "cell_type": "code",
   "execution_count": 12,
   "id": "7d3c5e19",
   "metadata": {},
   "outputs": [],
   "source": [
    "from currency_converter_main import read_json_file,main_currency_converter_function"
   ]
  },
  {
   "cell_type": "code",
   "execution_count": 21,
   "id": "ef901bbc",
   "metadata": {},
   "outputs": [],
   "source": [
    "file = read_json_file('current_values.json')[0]"
   ]
  },
  {
   "cell_type": "code",
   "execution_count": 22,
   "id": "04bc87f8",
   "metadata": {},
   "outputs": [
    {
     "data": {
      "text/plain": [
       "{'value': 0, 'currency': 'adasd'}"
      ]
     },
     "execution_count": 22,
     "metadata": {},
     "output_type": "execute_result"
    }
   ],
   "source": [
    "main_currency_converter_function(d,'adasd',file)"
   ]
  },
  {
   "cell_type": "code",
   "execution_count": 20,
   "id": "fce13f6f",
   "metadata": {},
   "outputs": [],
   "source": [
    "d =  {\n",
    "      \"value\": 10,\n",
    "      \"currency\": \"USD\"\n",
    "    }"
   ]
  },
  {
   "cell_type": "code",
   "execution_count": 16,
   "id": "6fc11cfb",
   "metadata": {},
   "outputs": [
    {
     "data": {
      "text/plain": [
       "{'value': 9.95, 'currency': 'USD'}"
      ]
     },
     "execution_count": 16,
     "metadata": {},
     "output_type": "execute_result"
    }
   ],
   "source": [
    "d"
   ]
  },
  {
   "cell_type": "code",
   "execution_count": 27,
   "id": "49943a8b",
   "metadata": {},
   "outputs": [],
   "source": [
    "def static_currency_converter(input_value,currency,price_dict):\n",
    "    '''\n",
    "    This Function Takes in the Input Value \n",
    "    and the Currency Type and Returns the \n",
    "    Coverted Currency\n",
    "    '''\n",
    "    \n",
    "    # First Step\n",
    "    # Convert Value to Euro's\n",
    "    \n",
    "    value = price_dict[input_value['currency']] * input_value[\"value\"]/price_dict[currency]\n",
    "    \n",
    "    return {\"value\":value,\"currency\":currency}\n"
   ]
  },
  {
   "cell_type": "code",
   "execution_count": 28,
   "id": "d7176329",
   "metadata": {},
   "outputs": [
    {
     "data": {
      "text/plain": [
       "1.0892"
      ]
     },
     "execution_count": 28,
     "metadata": {},
     "output_type": "execute_result"
    }
   ],
   "source": [
    "file['USD']"
   ]
  },
  {
   "cell_type": "code",
   "execution_count": 29,
   "id": "05966020",
   "metadata": {},
   "outputs": [
    {
     "data": {
      "text/plain": [
       "{'value': 10.837539999999999, 'currency': 'EUR'}"
      ]
     },
     "execution_count": 29,
     "metadata": {},
     "output_type": "execute_result"
    }
   ],
   "source": [
    "static_currency_converter(d,'EUR',file)"
   ]
  },
  {
   "cell_type": "code",
   "execution_count": 60,
   "id": "540acdca",
   "metadata": {},
   "outputs": [
    {
     "data": {
      "text/plain": [
       "1.0892"
      ]
     },
     "execution_count": 60,
     "metadata": {},
     "output_type": "execute_result"
    }
   ],
   "source": []
  },
  {
   "cell_type": "code",
   "execution_count": 58,
   "id": "74913ff0",
   "metadata": {},
   "outputs": [
    {
     "ename": "TypeError",
     "evalue": "'dict' object is not callable",
     "output_type": "error",
     "traceback": [
      "\u001b[0;31m---------------------------------------------------------------------------\u001b[0m",
      "\u001b[0;31mTypeError\u001b[0m                                 Traceback (most recent call last)",
      "Input \u001b[0;32mIn [58]\u001b[0m, in \u001b[0;36m<module>\u001b[0;34m\u001b[0m\n\u001b[0;32m----> 1\u001b[0m \u001b[43mfile\u001b[49m\u001b[43m(\u001b[49m\u001b[38;5;124;43m'\u001b[39;49m\u001b[38;5;124;43mUSD\u001b[39;49m\u001b[38;5;124;43m'\u001b[39;49m\u001b[43m)\u001b[49m\n",
      "\u001b[0;31mTypeError\u001b[0m: 'dict' object is not callable"
     ]
    }
   ],
   "source": [
    "file('USD')"
   ]
  },
  {
   "cell_type": "code",
   "execution_count": 30,
   "id": "8f849238",
   "metadata": {},
   "outputs": [],
   "source": [
    "x = read_json_file('data.json')"
   ]
  },
  {
   "cell_type": "code",
   "execution_count": 34,
   "id": "5717bb28",
   "metadata": {},
   "outputs": [
    {
     "name": "stdout",
     "output_type": "stream",
     "text": [
      "{'value': 'a9.95', 'currency': 'USD'}\n",
      "\n",
      "{'value': 99.95, 'currency': 'JPY'}\n",
      "\n",
      "{'value': 10.99, 'currency': 'EUR'}\n",
      "\n",
      "{'value': 10.99, 'currency': 'RRR'}\n",
      "\n",
      "{'value': 0, 'currency': 'EUR'}\n",
      "\n"
     ]
    }
   ],
   "source": [
    "for i in x:\n",
    "    print(i)\n",
    "    print()"
   ]
  },
  {
   "cell_type": "code",
   "execution_count": 56,
   "id": "14dfa043",
   "metadata": {},
   "outputs": [],
   "source": [
    "price_dict = read_json_file('current_values.json')[0]\n",
    "input_value =  {\n",
    "      \"value\": 99.95,\n",
    "      \"currency\": \"EUR\"\n",
    "    }\n",
    "currency = 'EUR'"
   ]
  },
  {
   "cell_type": "code",
   "execution_count": 57,
   "id": "51428b6f",
   "metadata": {},
   "outputs": [
    {
     "data": {
      "text/plain": [
       "0.010005002501250625"
      ]
     },
     "execution_count": 57,
     "metadata": {},
     "output_type": "execute_result"
    }
   ],
   "source": [
    "price_dict[input_value['currency']] * 1/input_value[\"value\"]"
   ]
  },
  {
   "cell_type": "code",
   "execution_count": 83,
   "id": "96b479a8",
   "metadata": {},
   "outputs": [],
   "source": [
    "input_value =  {\n",
    "      \"value\": 10,\n",
    "      \"currency\": \"EUR\"\n",
    "    }"
   ]
  },
  {
   "cell_type": "code",
   "execution_count": 84,
   "id": "666e05cd",
   "metadata": {},
   "outputs": [],
   "source": [
    "def static_currency_converter(input_value, currency, price_dict):\n",
    "    '''\n",
    "    This Function Takes in the Input Value \n",
    "    and the Currency Type and Returns the \n",
    "    Coverted Currency\n",
    "    '''\n",
    "\n",
    "    # First Step\n",
    "    # Convert Value to Euro's\n",
    "    \n",
    "    if input_value['currency'] == currency:\n",
    "        return {\"value\": input_value['value'], \"currency\": currency}\n",
    "    \n",
    "    else:\n",
    "        \n",
    "        price_in_euro = input_value[\"value\"]/price_dict[input_value['currency']]\n",
    "        \n",
    "        value = price_in_euro * (price_dict[currency])\n",
    "        \n",
    "        return {\"value\": value, \"currency\": currency}"
   ]
  },
  {
   "cell_type": "code",
   "execution_count": 85,
   "id": "cf513fc2",
   "metadata": {},
   "outputs": [
    {
     "data": {
      "text/plain": [
       "{'value': 10.892, 'currency': 'USD'}"
      ]
     },
     "execution_count": 85,
     "metadata": {},
     "output_type": "execute_result"
    }
   ],
   "source": [
    "static_currency_converter(input_value,'USD',file)"
   ]
  },
  {
   "cell_type": "code",
   "execution_count": 79,
   "id": "d28ea872",
   "metadata": {},
   "outputs": [
    {
     "data": {
      "text/plain": [
       "10.0"
      ]
     },
     "execution_count": 79,
     "metadata": {},
     "output_type": "execute_result"
    }
   ],
   "source": [
    "input_value[\"value\"]/price_dict[input_value['currency']]"
   ]
  },
  {
   "cell_type": "code",
   "execution_count": null,
   "id": "caeae99f",
   "metadata": {},
   "outputs": [],
   "source": []
  },
  {
   "cell_type": "code",
   "execution_count": 67,
   "id": "d377eda4",
   "metadata": {},
   "outputs": [
    {
     "data": {
      "text/plain": [
       "1.0"
      ]
     },
     "execution_count": 67,
     "metadata": {},
     "output_type": "execute_result"
    }
   ],
   "source": [
    "price_dict[currency]"
   ]
  },
  {
   "cell_type": "code",
   "execution_count": null,
   "id": "39b12e21",
   "metadata": {},
   "outputs": [],
   "source": []
  }
 ],
 "metadata": {
  "kernelspec": {
   "display_name": "Python 3 (ipykernel)",
   "language": "python",
   "name": "python3"
  },
  "language_info": {
   "codemirror_mode": {
    "name": "ipython",
    "version": 3
   },
   "file_extension": ".py",
   "mimetype": "text/x-python",
   "name": "python",
   "nbconvert_exporter": "python",
   "pygments_lexer": "ipython3",
   "version": "3.9.9"
  }
 },
 "nbformat": 4,
 "nbformat_minor": 5
}
